{
 "cells": [
  {
   "cell_type": "code",
   "execution_count": null,
   "metadata": {},
   "outputs": [],
   "source": [
    "import matplotlib.pyplot as plt\n",
    "from matplotlib.pyplot import rc_context\n",
    "import matplotlib.colors as mcolors\n",
    "from matplotlib import rcParams\n",
    "import numpy as np\n",
    "import seaborn as sns\n",
    "import scanpy as sc\n",
    "import pandas as pd\n",
    "import os\n",
    "sc.set_figure_params(dpi=70, color_map = 'viridis_r')\n",
    "FIGSIZE=(10,10)\n",
    "rcParams['figure.figsize']=FIGSIZE\n",
    "sc.settings.verbosity = 3\n",
    "sc.logging.print_header()"
   ]
  },
  {
   "cell_type": "code",
   "execution_count": null,
   "metadata": {},
   "outputs": [],
   "source": [
    "data = sc.read_h5ad('dataset.h5ad')\n",
    "sc.pp.filter_cells(data, min_genes=200)\n",
    "sc.pp.filter_genes(data, min_cells=20)\n",
    "print(data)"
   ]
  },
  {
   "cell_type": "code",
   "execution_count": null,
   "metadata": {},
   "outputs": [],
   "source": [
    "sc.pp.log1p(data)\n",
    "sc.pp.highly_variable_genes(data, min_mean=0.0125, max_mean=3, min_disp=0.5, n_top_genes=2000)\n",
    "print(data.var['highly_variable'].sum())\n",
    "sc.pl.highly_variable_genes(data)"
   ]
  },
  {
   "cell_type": "code",
   "execution_count": null,
   "metadata": {},
   "outputs": [],
   "source": [
    "data.raw = data\n",
    "data = data[:, data.var.highly_variable]\n",
    "# sc.pp.regress_out(data, ['total_counts', 'pct_counts_mt'])\n",
    "sc.pp.scale(data, max_value=10)\n",
    "print(data.var)\n",
    "print(data.obs)"
   ]
  },
  {
   "cell_type": "code",
   "execution_count": null,
   "metadata": {},
   "outputs": [],
   "source": [
    "sc.tl.pca(data, svd_solver='arpack')\n",
    "sc.pl.pca(data)\n",
    "sc.pl.pca_variance_ratio(data, log=True)"
   ]
  },
  {
   "cell_type": "code",
   "execution_count": null,
   "metadata": {},
   "outputs": [],
   "source": [
    "sc.pp.neighbors(data, n_neighbors=10, n_pcs=40)\n",
    "sc.tl.leiden(data,resolution=0.5)\n",
    "data.obs.to_csv('cluster.csv')"
   ]
  }
 ],
 "metadata": {
  "kernelspec": {
   "display_name": ".venv",
   "language": "python",
   "name": "python3"
  },
  "language_info": {
   "codemirror_mode": {
    "name": "ipython",
    "version": 3
   },
   "file_extension": ".py",
   "mimetype": "text/x-python",
   "name": "python",
   "nbconvert_exporter": "python",
   "pygments_lexer": "ipython3",
   "version": "3.11.5"
  },
  "orig_nbformat": 4
 },
 "nbformat": 4,
 "nbformat_minor": 2
}
