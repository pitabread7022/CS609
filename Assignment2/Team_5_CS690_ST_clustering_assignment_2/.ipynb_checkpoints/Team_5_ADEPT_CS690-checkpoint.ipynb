{
 "cells": [
  {
   "cell_type": "markdown",
   "metadata": {
    "id": "iselbR2dTUfO"
   },
   "source": []
  },
  {
   "cell_type": "code",
   "execution_count": 48,
   "metadata": {},
   "outputs": [
    {
     "name": "stdout",
     "output_type": "stream",
     "text": [
      "C:\\Users\\91915\\Downloads\\CS690-final\\CS690\\Assignment2\\Team_5_CS690_ST_clustering_assignment_2\\Team_5_predictions_IMPUT\n"
     ]
    }
   ],
   "source": [
    "%cd C:\\Users\\91915\\Downloads\\CS690-final\\CS690\\Assignment2\\Team_5_CS690_ST_clustering_assignment_2\\Team_5_predictions_IMPUT"
   ]
  },
  {
   "cell_type": "code",
   "execution_count": 49,
   "metadata": {
    "colab": {
     "base_uri": "https://localhost:8080/"
    },
    "id": "Ts6cUslzTXii",
    "outputId": "18234511-a6bf-437b-c3af-1ae66e17d290"
   },
   "outputs": [
    {
     "name": "stdout",
     "output_type": "stream",
     "text": [
      "C:\\Users\\91915\n"
     ]
    }
   ],
   "source": [
    "folder_name = 'CS690/ADEPT/'\n",
    "import sys; import os; import pandas as pd\n",
    "%cd"
   ]
  },
  {
   "cell_type": "code",
   "execution_count": 52,
   "metadata": {},
   "outputs": [
    {
     "data": {
      "text/plain": [
       "'C:\\\\Users\\\\91915\\\\Downloads\\\\CS690-final\\\\CS690\\\\Assignment2\\\\Team_5_CS690_ST_clustering_assignment_2\\\\Team_5_predictions_IMPUT'"
      ]
     },
     "execution_count": 52,
     "metadata": {},
     "output_type": "execute_result"
    }
   ],
   "source": [
    "import os\n",
    "\n",
    "folder_path = r'C:\\Users\\91915\\Downloads\\CS690-final\\CS690\\Assignment2\\Team_5_CS690_ST_clustering_assignment_2\\Team_5_predictions_IMPUT'\n",
    "os.chdir(folder_path)\n",
    "\n",
    "# Check the current working directory\n",
    "os.getcwd()"
   ]
  },
  {
   "cell_type": "code",
   "execution_count": 63,
   "metadata": {},
   "outputs": [
    {
     "name": "stdout",
     "output_type": "stream",
     "text": [
      "C:\\Users\\91915\\Downloads\\CS690-final\\CS690\\Assignment2\\Team_5_CS690_ST_clustering_assignment_2\\Team_5_predictions_IMPUT\n",
      "GAAATATGCTTGAATG-1\n",
      "Pattern 'GAAATATGCTTGAATG-1' found in file 'ADEPT_151507_ADEPT.csv' in rows: ['GAAATATGCTTGAATG-1']\n",
      "Pattern 'GAAATATGCTTGAATG-1' found in file 'ADEPT_151508_ADEPT.csv' in rows: ['GAAATATGCTTGAATG-1']\n",
      "Pattern 'GAAATATGCTTGAATG-1' found in file 'ADEPT_151509_ADEPT.csv' in rows: ['GAAATATGCTTGAATG-1']\n",
      "Pattern 'GAAATATGCTTGAATG-1' found in file 'ADEPT_151510_ADEPT.csv' in rows: ['GAAATATGCTTGAATG-1']\n",
      "Pattern 'GAAATATGCTTGAATG-1' found in file 'ADEPT_151669_ADEPT.csv' in rows: ['GAAATATGCTTGAATG-1']\n",
      "nothing found\n",
      "Pattern 'GAAATATGCTTGAATG-1' found in file 'ADEPT_151671_ADEPT.csv' in rows: ['GAAATATGCTTGAATG-1']\n",
      "Pattern 'GAAATATGCTTGAATG-1' found in file 'ADEPT_151672_ADEPT.csv' in rows: ['GAAATATGCTTGAATG-1']\n",
      "Pattern 'GAAATATGCTTGAATG-1' found in file 'ADEPT_151673_ADEPT.csv' in rows: ['GAAATATGCTTGAATG-1']\n",
      "Pattern 'GAAATATGCTTGAATG-1' found in file 'ADEPT_151674_ADEPT.csv' in rows: ['GAAATATGCTTGAATG-1']\n",
      "nothing found\n",
      "Pattern 'GAAATATGCTTGAATG-1' found in file 'ADEPT_151676_ADEPT.csv' in rows: ['GAAATATGCTTGAATG-1']\n",
      "C:\\Users\\91915\\Downloads\\CS690-final\\CS690\\Assignment2\\Team_5_CS690_ST_clustering_assignment_2\\Team_5_predictions_IMPUT\n"
     ]
    }
   ],
   "source": [
    "folder_path = r'C:\\Users\\91915\\Downloads\\CS690-final\\CS690\\Assignment2\\Team_5_CS690_ST_clustering_assignment_2\\Team_5_predictions_IMPUT'\n",
    "os.chdir(folder_path)\n",
    "print(os.getcwd())\n",
    "def search_pattern_in_csv_folder(folder_path, pattern):\n",
    "    \n",
    "    csv_files = [file for file in os.listdir(folder_path) if file.endswith('.csv')]\n",
    "    print(pattern)\n",
    "\n",
    "    for csv_file in csv_files:\n",
    "        file_path = os.path.join(folder_path, csv_file)\n",
    "\n",
    "        # Read the CSV file into a DataFrame\n",
    "        df = pd.read_csv(file_path, index_col=0)  # Assuming the index is in the first column\n",
    "\n",
    "        # Check if the pattern exists in the index of any row\n",
    "        matching_rows = df.index[df.index == pattern]\n",
    "        #print(df.head())\n",
    "\n",
    "        # Print the results\n",
    "        if not matching_rows.empty:\n",
    "            print(f\"Pattern '{pattern}' found in file '{csv_file}' in rows: {matching_rows.tolist()}\")\n",
    "        else: print('nothing found')\n",
    "\n",
    "# Example: Specify the folder path and the pattern to search\n",
    "search_pattern = 'GAAATATGCTTGAATG-1'\n",
    "\n",
    "# Perform the search\n",
    "search_pattern_in_csv_folder(folder_path, search_pattern)\n",
    "print(os.getcwd())"
   ]
  },
  {
   "cell_type": "code",
   "execution_count": null,
   "metadata": {
    "colab": {
     "base_uri": "https://localhost:8080/"
    },
    "id": "fFKvlwX1e6ac",
    "outputId": "8fa35b05-4fdb-483f-a47f-b8ccaa08c26e"
   },
   "outputs": [
    {
     "name": "stdout",
     "output_type": "stream",
     "text": [
      "Collecting torch-geometric\n",
      "  Downloading torch_geometric-2.3.1.tar.gz (661 kB)\n",
      "\u001b[2K     \u001b[90m━━━━━━━━━━━━━━━━━━━━━━━━━━━━━━━━━━━━━━━\u001b[0m \u001b[32m661.6/661.6 kB\u001b[0m \u001b[31m6.6 MB/s\u001b[0m eta \u001b[36m0:00:00\u001b[0m\n",
      "\u001b[?25h  Installing build dependencies ... \u001b[?25l\u001b[?25hdone\n",
      "  Getting requirements to build wheel ... \u001b[?25l\u001b[?25hdone\n",
      "  Preparing metadata (pyproject.toml) ... \u001b[?25l\u001b[?25hdone\n",
      "Requirement already satisfied: tqdm in /usr/local/lib/python3.10/dist-packages (from torch-geometric) (4.66.1)\n",
      "Requirement already satisfied: numpy in /usr/local/lib/python3.10/dist-packages (from torch-geometric) (1.23.5)\n",
      "Requirement already satisfied: scipy in /usr/local/lib/python3.10/dist-packages (from torch-geometric) (1.11.2)\n",
      "Requirement already satisfied: jinja2 in /usr/local/lib/python3.10/dist-packages (from torch-geometric) (3.1.2)\n",
      "Requirement already satisfied: requests in /usr/local/lib/python3.10/dist-packages (from torch-geometric) (2.31.0)\n",
      "Requirement already satisfied: pyparsing in /usr/local/lib/python3.10/dist-packages (from torch-geometric) (3.1.1)\n",
      "Requirement already satisfied: scikit-learn in /usr/local/lib/python3.10/dist-packages (from torch-geometric) (1.2.2)\n",
      "Requirement already satisfied: psutil>=5.8.0 in /usr/local/lib/python3.10/dist-packages (from torch-geometric) (5.9.5)\n",
      "Requirement already satisfied: MarkupSafe>=2.0 in /usr/local/lib/python3.10/dist-packages (from jinja2->torch-geometric) (2.1.3)\n",
      "Requirement already satisfied: charset-normalizer<4,>=2 in /usr/local/lib/python3.10/dist-packages (from requests->torch-geometric) (3.2.0)\n",
      "Requirement already satisfied: idna<4,>=2.5 in /usr/local/lib/python3.10/dist-packages (from requests->torch-geometric) (3.4)\n",
      "Requirement already satisfied: urllib3<3,>=1.21.1 in /usr/local/lib/python3.10/dist-packages (from requests->torch-geometric) (2.0.4)\n",
      "Requirement already satisfied: certifi>=2017.4.17 in /usr/local/lib/python3.10/dist-packages (from requests->torch-geometric) (2023.7.22)\n",
      "Requirement already satisfied: joblib>=1.1.1 in /usr/local/lib/python3.10/dist-packages (from scikit-learn->torch-geometric) (1.3.2)\n",
      "Requirement already satisfied: threadpoolctl>=2.0.0 in /usr/local/lib/python3.10/dist-packages (from scikit-learn->torch-geometric) (3.2.0)\n",
      "Building wheels for collected packages: torch-geometric\n",
      "  Building wheel for torch-geometric (pyproject.toml) ... \u001b[?25l\u001b[?25hdone\n",
      "  Created wheel for torch-geometric: filename=torch_geometric-2.3.1-py3-none-any.whl size=910454 sha256=42cefb3dc6ee9966dabadab77f6b17a5e03e91675c6b8a33e4d72fd48cfeca1b\n",
      "  Stored in directory: /root/.cache/pip/wheels/ac/dc/30/e2874821ff308ee67dcd7a66dbde912411e19e35a1addda028\n",
      "Successfully built torch-geometric\n",
      "Installing collected packages: torch-geometric\n",
      "Successfully installed torch-geometric-2.3.1\n",
      "Collecting scanpy==1.9.1 (from -r requirements.txt (line 1))\n",
      "  Downloading scanpy-1.9.1-py3-none-any.whl (2.0 MB)\n",
      "\u001b[2K     \u001b[90m━━━━━━━━━━━━━━━━━━━━━━━━━━━━━━━━━━━━━━━━\u001b[0m \u001b[32m2.0/2.0 MB\u001b[0m \u001b[31m17.1 MB/s\u001b[0m eta \u001b[36m0:00:00\u001b[0m\n",
      "\u001b[?25hCollecting matplotlib==3.1.0 (from -r requirements.txt (line 2))\n",
      "  Downloading matplotlib-3.1.0.tar.gz (37.2 MB)\n",
      "\u001b[2K     \u001b[90m━━━━━━━━━━━━━━━━━━━━━━━━━━━━━━━━━━━━━━━━\u001b[0m \u001b[32m37.2/37.2 MB\u001b[0m \u001b[31m31.4 MB/s\u001b[0m eta \u001b[36m0:00:00\u001b[0m\n",
      "\u001b[?25h  Preparing metadata (setup.py) ... \u001b[?25l\u001b[?25hdone\n",
      "Collecting numpy==1.20.3 (from -r requirements.txt (line 3))\n",
      "  Downloading numpy-1.20.3.zip (7.8 MB)\n",
      "\u001b[2K     \u001b[90m━━━━━━━━━━━━━━━━━━━━━━━━━━━━━━━━━━━━━━━━\u001b[0m \u001b[32m7.8/7.8 MB\u001b[0m \u001b[31m28.4 MB/s\u001b[0m eta \u001b[36m0:00:00\u001b[0m\n",
      "\u001b[?25h  Installing build dependencies ... \u001b[?25l\u001b[?25hdone\n",
      "  Getting requirements to build wheel ... \u001b[?25l\u001b[?25hdone\n",
      "  Preparing metadata (pyproject.toml) ... \u001b[?25l\u001b[?25hdone\n",
      "Requirement already satisfied: scikit-learn in /usr/local/lib/python3.10/dist-packages (from -r requirements.txt (line 4)) (1.2.2)\n",
      "\u001b[31mERROR: Could not find a version that satisfies the requirement matplolib (from versions: none)\u001b[0m\u001b[31m\n",
      "\u001b[0m\u001b[31mERROR: No matching distribution found for matplolib\u001b[0m\u001b[31m\n",
      "\u001b[0mCollecting scanpy\n",
      "  Downloading scanpy-1.9.5-py3-none-any.whl (2.0 MB)\n",
      "\u001b[2K     \u001b[90m━━━━━━━━━━━━━━━━━━━━━━━━━━━━━━━━━━━━━━━━\u001b[0m \u001b[32m2.0/2.0 MB\u001b[0m \u001b[31m11.5 MB/s\u001b[0m eta \u001b[36m0:00:00\u001b[0m\n",
      "\u001b[?25hCollecting anndata>=0.7.4 (from scanpy)\n",
      "  Downloading anndata-0.9.2-py3-none-any.whl (104 kB)\n",
      "\u001b[2K     \u001b[90m━━━━━━━━━━━━━━━━━━━━━━━━━━━━━━━━━━━━━━\u001b[0m \u001b[32m104.2/104.2 kB\u001b[0m \u001b[31m13.5 MB/s\u001b[0m eta \u001b[36m0:00:00\u001b[0m\n",
      "\u001b[?25hRequirement already satisfied: numpy>=1.17.0 in /usr/local/lib/python3.10/dist-packages (from scanpy) (1.23.5)\n",
      "Requirement already satisfied: matplotlib>=3.4 in /usr/local/lib/python3.10/dist-packages (from scanpy) (3.7.1)\n",
      "Requirement already satisfied: pandas>=1.0 in /usr/local/lib/python3.10/dist-packages (from scanpy) (1.5.3)\n",
      "Requirement already satisfied: scipy>=1.4 in /usr/local/lib/python3.10/dist-packages (from scanpy) (1.11.2)\n",
      "Requirement already satisfied: seaborn in /usr/local/lib/python3.10/dist-packages (from scanpy) (0.12.2)\n",
      "Requirement already satisfied: h5py>=3 in /usr/local/lib/python3.10/dist-packages (from scanpy) (3.9.0)\n",
      "Requirement already satisfied: tqdm in /usr/local/lib/python3.10/dist-packages (from scanpy) (4.66.1)\n",
      "Requirement already satisfied: scikit-learn>=0.24 in /usr/local/lib/python3.10/dist-packages (from scanpy) (1.2.2)\n",
      "Requirement already satisfied: statsmodels>=0.10.0rc2 in /usr/local/lib/python3.10/dist-packages (from scanpy) (0.14.0)\n",
      "Requirement already satisfied: patsy in /usr/local/lib/python3.10/dist-packages (from scanpy) (0.5.3)\n",
      "Requirement already satisfied: networkx>=2.3 in /usr/local/lib/python3.10/dist-packages (from scanpy) (3.1)\n",
      "Requirement already satisfied: natsort in /usr/local/lib/python3.10/dist-packages (from scanpy) (8.4.0)\n",
      "Requirement already satisfied: joblib in /usr/local/lib/python3.10/dist-packages (from scanpy) (1.3.2)\n",
      "Requirement already satisfied: numba>=0.41.0 in /usr/local/lib/python3.10/dist-packages (from scanpy) (0.56.4)\n",
      "Collecting umap-learn>=0.3.10 (from scanpy)\n",
      "  Downloading umap-learn-0.5.4.tar.gz (90 kB)\n",
      "\u001b[2K     \u001b[90m━━━━━━━━━━━━━━━━━━━━━━━━━━━━━━━━━━━━━━━━\u001b[0m \u001b[32m90.8/90.8 kB\u001b[0m \u001b[31m11.6 MB/s\u001b[0m eta \u001b[36m0:00:00\u001b[0m\n",
      "\u001b[?25h  Preparing metadata (setup.py) ... \u001b[?25l\u001b[?25hdone\n",
      "Requirement already satisfied: packaging in /usr/local/lib/python3.10/dist-packages (from scanpy) (23.1)\n",
      "Collecting session-info (from scanpy)\n",
      "  Downloading session_info-1.0.0.tar.gz (24 kB)\n",
      "  Preparing metadata (setup.py) ... \u001b[?25l\u001b[?25hdone\n",
      "Requirement already satisfied: contourpy>=1.0.1 in /usr/local/lib/python3.10/dist-packages (from matplotlib>=3.4->scanpy) (1.1.0)\n",
      "Requirement already satisfied: cycler>=0.10 in /usr/local/lib/python3.10/dist-packages (from matplotlib>=3.4->scanpy) (0.11.0)\n",
      "Requirement already satisfied: fonttools>=4.22.0 in /usr/local/lib/python3.10/dist-packages (from matplotlib>=3.4->scanpy) (4.42.1)\n",
      "Requirement already satisfied: kiwisolver>=1.0.1 in /usr/local/lib/python3.10/dist-packages (from matplotlib>=3.4->scanpy) (1.4.5)\n",
      "Requirement already satisfied: pillow>=6.2.0 in /usr/local/lib/python3.10/dist-packages (from matplotlib>=3.4->scanpy) (9.4.0)\n",
      "Requirement already satisfied: pyparsing>=2.3.1 in /usr/local/lib/python3.10/dist-packages (from matplotlib>=3.4->scanpy) (3.1.1)\n",
      "Requirement already satisfied: python-dateutil>=2.7 in /usr/local/lib/python3.10/dist-packages (from matplotlib>=3.4->scanpy) (2.8.2)\n",
      "Requirement already satisfied: llvmlite<0.40,>=0.39.0dev0 in /usr/local/lib/python3.10/dist-packages (from numba>=0.41.0->scanpy) (0.39.1)\n",
      "Requirement already satisfied: setuptools in /usr/local/lib/python3.10/dist-packages (from numba>=0.41.0->scanpy) (67.7.2)\n",
      "Requirement already satisfied: pytz>=2020.1 in /usr/local/lib/python3.10/dist-packages (from pandas>=1.0->scanpy) (2023.3.post1)\n",
      "Requirement already satisfied: threadpoolctl>=2.0.0 in /usr/local/lib/python3.10/dist-packages (from scikit-learn>=0.24->scanpy) (3.2.0)\n",
      "Requirement already satisfied: six in /usr/local/lib/python3.10/dist-packages (from patsy->scanpy) (1.16.0)\n",
      "Collecting pynndescent>=0.5 (from umap-learn>=0.3.10->scanpy)\n",
      "  Downloading pynndescent-0.5.10.tar.gz (1.1 MB)\n",
      "\u001b[2K     \u001b[90m━━━━━━━━━━━━━━━━━━━━━━━━━━━━━━━━━━━━━━━━\u001b[0m \u001b[32m1.1/1.1 MB\u001b[0m \u001b[31m19.9 MB/s\u001b[0m eta \u001b[36m0:00:00\u001b[0m\n",
      "\u001b[?25h  Preparing metadata (setup.py) ... \u001b[?25l\u001b[?25hdone\n",
      "Requirement already satisfied: tbb>=2019.0 in /usr/local/lib/python3.10/dist-packages (from umap-learn>=0.3.10->scanpy) (2021.10.0)\n",
      "Collecting stdlib_list (from session-info->scanpy)\n",
      "  Downloading stdlib_list-0.9.0-py3-none-any.whl (75 kB)\n",
      "\u001b[2K     \u001b[90m━━━━━━━━━━━━━━━━━━━━━━━━━━━━━━━━━━━━━━━━\u001b[0m \u001b[32m75.6/75.6 kB\u001b[0m \u001b[31m10.4 MB/s\u001b[0m eta \u001b[36m0:00:00\u001b[0m\n",
      "\u001b[?25hBuilding wheels for collected packages: umap-learn, session-info, pynndescent\n",
      "  Building wheel for umap-learn (setup.py) ... \u001b[?25l\u001b[?25hdone\n",
      "  Created wheel for umap-learn: filename=umap_learn-0.5.4-py3-none-any.whl size=86770 sha256=24a47d92d4dcfd36e840055adafd7ec9931d54992da6730d9fa7355854b75d10\n",
      "  Stored in directory: /root/.cache/pip/wheels/fb/66/29/199acf5784d0f7b8add6d466175ab45506c96e386ed5dd0633\n",
      "  Building wheel for session-info (setup.py) ... \u001b[?25l\u001b[?25hdone\n",
      "  Created wheel for session-info: filename=session_info-1.0.0-py3-none-any.whl size=8026 sha256=517d19b1e0edb350b9a097887dc93a1c7f8c1097349eb1293c408c13abcb374c\n",
      "  Stored in directory: /root/.cache/pip/wheels/6a/aa/b9/eb5d4031476ec10802795b97ccf937b9bd998d68a9b268765a\n",
      "  Building wheel for pynndescent (setup.py) ... \u001b[?25l\u001b[?25hdone\n",
      "  Created wheel for pynndescent: filename=pynndescent-0.5.10-py3-none-any.whl size=55615 sha256=5a4695d37e636a25c6e58cb0bd30a2a46ae8ea68334163d36b4dd02b19616a1d\n",
      "  Stored in directory: /root/.cache/pip/wheels/4a/38/5d/f60a40a66a9512b7e5e83517ebc2d1b42d857be97d135f1096\n",
      "Successfully built umap-learn session-info pynndescent\n",
      "Installing collected packages: stdlib_list, session-info, pynndescent, anndata, umap-learn, scanpy\n",
      "Successfully installed anndata-0.9.2 pynndescent-0.5.10 scanpy-1.9.5 session-info-1.0.0 stdlib_list-0.9.0 umap-learn-0.5.4\n",
      "Collecting python-igraph\n",
      "  Downloading python_igraph-0.10.8-py3-none-any.whl (9.1 kB)\n",
      "Collecting igraph==0.10.8 (from python-igraph)\n",
      "  Downloading igraph-0.10.8-cp39-abi3-manylinux_2_17_x86_64.manylinux2014_x86_64.whl (3.3 MB)\n",
      "\u001b[2K     \u001b[90m━━━━━━━━━━━━━━━━━━━━━━━━━━━━━━━━━━━━━━━━\u001b[0m \u001b[32m3.3/3.3 MB\u001b[0m \u001b[31m14.8 MB/s\u001b[0m eta \u001b[36m0:00:00\u001b[0m\n",
      "\u001b[?25hCollecting texttable>=1.6.2 (from igraph==0.10.8->python-igraph)\n",
      "  Downloading texttable-1.6.7-py2.py3-none-any.whl (10 kB)\n",
      "Installing collected packages: texttable, igraph, python-igraph\n",
      "Successfully installed igraph-0.10.8 python-igraph-0.10.8 texttable-1.6.7\n",
      "Requirement already satisfied: rpy2 in /usr/local/lib/python3.10/dist-packages (3.4.2)\n",
      "Requirement already satisfied: cffi>=1.10.0 in /usr/local/lib/python3.10/dist-packages (from rpy2) (1.15.1)\n",
      "Requirement already satisfied: jinja2 in /usr/local/lib/python3.10/dist-packages (from rpy2) (3.1.2)\n",
      "Requirement already satisfied: pytz in /usr/local/lib/python3.10/dist-packages (from rpy2) (2023.3.post1)\n",
      "Requirement already satisfied: tzlocal in /usr/local/lib/python3.10/dist-packages (from rpy2) (5.0.1)\n",
      "Requirement already satisfied: pycparser in /usr/local/lib/python3.10/dist-packages (from cffi>=1.10.0->rpy2) (2.21)\n",
      "Requirement already satisfied: MarkupSafe>=2.0 in /usr/local/lib/python3.10/dist-packages (from jinja2->rpy2) (2.1.3)\n",
      "Collecting scikit-misc\n",
      "  Downloading scikit_misc-0.3.0-cp310-cp310-manylinux_2_17_x86_64.manylinux2014_x86_64.whl (10.8 MB)\n",
      "\u001b[2K     \u001b[90m━━━━━━━━━━━━━━━━━━━━━━━━━━━━━━━━━━━━━━━━\u001b[0m \u001b[32m10.8/10.8 MB\u001b[0m \u001b[31m28.8 MB/s\u001b[0m eta \u001b[36m0:00:00\u001b[0m\n",
      "\u001b[?25hRequirement already satisfied: numpy>=1.22.3 in /usr/local/lib/python3.10/dist-packages (from scikit-misc) (1.23.5)\n",
      "Installing collected packages: scikit-misc\n",
      "Successfully installed scikit-misc-0.3.0\n",
      "Looking in links: https://data.pyg.org/whl/torch-2.0.1+cu118.html\n",
      "Collecting torch-scatter\n",
      "  Downloading https://data.pyg.org/whl/torch-2.0.0%2Bcu118/torch_scatter-2.1.1%2Bpt20cu118-cp310-cp310-linux_x86_64.whl (10.2 MB)\n",
      "\u001b[2K     \u001b[90m━━━━━━━━━━━━━━━━━━━━━━━━━━━━━━━━━━━━━━━━\u001b[0m \u001b[32m10.2/10.2 MB\u001b[0m \u001b[31m42.4 MB/s\u001b[0m eta \u001b[36m0:00:00\u001b[0m\n",
      "\u001b[?25hCollecting torch-sparse\n",
      "  Downloading https://data.pyg.org/whl/torch-2.0.0%2Bcu118/torch_sparse-0.6.17%2Bpt20cu118-cp310-cp310-linux_x86_64.whl (4.8 MB)\n",
      "\u001b[2K     \u001b[90m━━━━━━━━━━━━━━━━━━━━━━━━━━━━━━━━━━━━━━━━\u001b[0m \u001b[32m4.8/4.8 MB\u001b[0m \u001b[31m87.2 MB/s\u001b[0m eta \u001b[36m0:00:00\u001b[0m\n",
      "\u001b[?25hRequirement already satisfied: scipy in /usr/local/lib/python3.10/dist-packages (from torch-sparse) (1.11.2)\n",
      "Requirement already satisfied: numpy<1.28.0,>=1.21.6 in /usr/local/lib/python3.10/dist-packages (from scipy->torch-sparse) (1.23.5)\n",
      "Installing collected packages: torch-scatter, torch-sparse\n",
      "Successfully installed torch-scatter-2.1.1+pt20cu118 torch-sparse-0.6.17+pt20cu118\n"
     ]
    },
    {
     "name": "stderr",
     "output_type": "stream",
     "text": [
      "WARNING:rpy2.rinterface_lib.callbacks:R[write to console]: Installing package into ‘/usr/local/lib/R/site-library’\n",
      "(as ‘lib’ is unspecified)\n",
      "\n",
      "WARNING:rpy2.rinterface_lib.callbacks:R[write to console]: trying URL 'http://cran.r-project.org/src/contrib/mclust_6.0.0.tar.gz'\n",
      "\n",
      "WARNING:rpy2.rinterface_lib.callbacks:R[write to console]: Content type 'application/x-gzip'\n",
      "WARNING:rpy2.rinterface_lib.callbacks:R[write to console]:  length 2744043 bytes (2.6 MB)\n",
      "\n",
      "WARNING:rpy2.rinterface_lib.callbacks:R[write to console]: =\n",
      "WARNING:rpy2.rinterface_lib.callbacks:R[write to console]: =\n",
      "WARNING:rpy2.rinterface_lib.callbacks:R[write to console]: =\n",
      "WARNING:rpy2.rinterface_lib.callbacks:R[write to console]: =\n",
      "WARNING:rpy2.rinterface_lib.callbacks:R[write to console]: =\n",
      "WARNING:rpy2.rinterface_lib.callbacks:R[write to console]: =\n",
      "WARNING:rpy2.rinterface_lib.callbacks:R[write to console]: =\n",
      "WARNING:rpy2.rinterface_lib.callbacks:R[write to console]: =\n",
      "WARNING:rpy2.rinterface_lib.callbacks:R[write to console]: =\n",
      "WARNING:rpy2.rinterface_lib.callbacks:R[write to console]: =\n",
      "WARNING:rpy2.rinterface_lib.callbacks:R[write to console]: =\n",
      "WARNING:rpy2.rinterface_lib.callbacks:R[write to console]: =\n",
      "WARNING:rpy2.rinterface_lib.callbacks:R[write to console]: =\n",
      "WARNING:rpy2.rinterface_lib.callbacks:R[write to console]: =\n",
      "WARNING:rpy2.rinterface_lib.callbacks:R[write to console]: =\n",
      "WARNING:rpy2.rinterface_lib.callbacks:R[write to console]: =\n",
      "WARNING:rpy2.rinterface_lib.callbacks:R[write to console]: =\n",
      "WARNING:rpy2.rinterface_lib.callbacks:R[write to console]: =\n",
      "WARNING:rpy2.rinterface_lib.callbacks:R[write to console]: =\n",
      "WARNING:rpy2.rinterface_lib.callbacks:R[write to console]: =\n",
      "WARNING:rpy2.rinterface_lib.callbacks:R[write to console]: =\n",
      "WARNING:rpy2.rinterface_lib.callbacks:R[write to console]: =\n",
      "WARNING:rpy2.rinterface_lib.callbacks:R[write to console]: =\n",
      "WARNING:rpy2.rinterface_lib.callbacks:R[write to console]: =\n",
      "WARNING:rpy2.rinterface_lib.callbacks:R[write to console]: =\n",
      "WARNING:rpy2.rinterface_lib.callbacks:R[write to console]: =\n",
      "WARNING:rpy2.rinterface_lib.callbacks:R[write to console]: =\n",
      "WARNING:rpy2.rinterface_lib.callbacks:R[write to console]: =\n",
      "WARNING:rpy2.rinterface_lib.callbacks:R[write to console]: =\n",
      "WARNING:rpy2.rinterface_lib.callbacks:R[write to console]: =\n",
      "WARNING:rpy2.rinterface_lib.callbacks:R[write to console]: =\n",
      "WARNING:rpy2.rinterface_lib.callbacks:R[write to console]: =\n",
      "WARNING:rpy2.rinterface_lib.callbacks:R[write to console]: =\n",
      "WARNING:rpy2.rinterface_lib.callbacks:R[write to console]: =\n",
      "WARNING:rpy2.rinterface_lib.callbacks:R[write to console]: =\n",
      "WARNING:rpy2.rinterface_lib.callbacks:R[write to console]: =\n",
      "WARNING:rpy2.rinterface_lib.callbacks:R[write to console]: =\n",
      "WARNING:rpy2.rinterface_lib.callbacks:R[write to console]: =\n",
      "WARNING:rpy2.rinterface_lib.callbacks:R[write to console]: =\n",
      "WARNING:rpy2.rinterface_lib.callbacks:R[write to console]: =\n",
      "WARNING:rpy2.rinterface_lib.callbacks:R[write to console]: =\n",
      "WARNING:rpy2.rinterface_lib.callbacks:R[write to console]: =\n",
      "WARNING:rpy2.rinterface_lib.callbacks:R[write to console]: =\n",
      "WARNING:rpy2.rinterface_lib.callbacks:R[write to console]: =\n",
      "WARNING:rpy2.rinterface_lib.callbacks:R[write to console]: =\n",
      "WARNING:rpy2.rinterface_lib.callbacks:R[write to console]: =\n",
      "WARNING:rpy2.rinterface_lib.callbacks:R[write to console]: =\n",
      "WARNING:rpy2.rinterface_lib.callbacks:R[write to console]: =\n",
      "WARNING:rpy2.rinterface_lib.callbacks:R[write to console]: =\n",
      "WARNING:rpy2.rinterface_lib.callbacks:R[write to console]: =\n",
      "WARNING:rpy2.rinterface_lib.callbacks:R[write to console]: \n",
      "\n",
      "WARNING:rpy2.rinterface_lib.callbacks:R[write to console]: downloaded 2.6 MB\n",
      "\n",
      "\n",
      "WARNING:rpy2.rinterface_lib.callbacks:R[write to console]: \n",
      "\n",
      "WARNING:rpy2.rinterface_lib.callbacks:R[write to console]: \n",
      "WARNING:rpy2.rinterface_lib.callbacks:R[write to console]: The downloaded source packages are in\n",
      "\t‘/tmp/Rtmp1NHMF8/downloaded_packages’\n",
      "WARNING:rpy2.rinterface_lib.callbacks:R[write to console]: \n",
      "WARNING:rpy2.rinterface_lib.callbacks:R[write to console]: \n",
      "\n"
     ]
    },
    {
     "data": {
      "text/plain": [
       "<rpy2.rinterface_lib.sexp.NULLType object at 0x78dfb9d5e600> [RTYPES.NILSXP]"
      ]
     },
     "execution_count": 4,
     "metadata": {},
     "output_type": "execute_result"
    }
   ],
   "source": [
    "!pip install torch-geometric\n",
    "!pip install -r requirements.txt\n",
    "!pip install scanpy\n",
    "!pip install python-igraph\n",
    "!pip install rpy2\n",
    "!pip install --user scikit-misc\n",
    "\n",
    "import torch\n",
    "!pip install torch-scatter torch-sparse -f https://data.pyg.org/whl/torch-{torch.__version__}.html\n",
    "\n",
    "import rpy2.robjects as robjects\n",
    "\n",
    "install_cmd = \"install.packages('mclust', repos='http://cran.r-project.org')\"\n",
    "robjects.r(install_cmd)"
   ]
  },
  {
   "cell_type": "code",
   "execution_count": null,
   "metadata": {
    "colab": {
     "base_uri": "https://localhost:8080/"
    },
    "id": "FhOFPg2xgcFz",
    "outputId": "7c3a54e4-8500-4ae6-cb83-c3dd27b4692d"
   },
   "outputs": [
    {
     "name": "stdout",
     "output_type": "stream",
     "text": [
      "optimizing minimum filter number\n",
      "/content/drive/MyDrive/CS690/ADEPT/dataset/DLPFC\n",
      "                          1\n",
      "0                          \n",
      "AGCGCTTATGGGCAAG-1  Layer_2\n",
      "AGCGGACACTTCGTAG-1  Layer_6\n",
      "AGCGGCGGTTAGCGGT-1  Layer_6\n",
      "AGCGGGAAGGGTCCAT-1  Layer_2\n",
      "AGCGGGTCTGACACTC-1  Layer_6\n",
      "optimized filter number =  50\n",
      "initializing spatial transcriptomic data\n",
      "                          1\n",
      "0                          \n",
      "AGCGCTTATGGGCAAG-1  Layer_2\n",
      "AGCGGACACTTCGTAG-1  Layer_6\n",
      "AGCGGCGGTTAGCGGT-1  Layer_6\n",
      "AGCGGGAAGGGTCCAT-1  Layer_2\n",
      "AGCGGGTCTGACACTC-1  Layer_6\n",
      "manually defined de list =  [762]\n",
      "performing DEGs selection\n",
      "cluster_n =  7\n",
      "------Calculating spatial graph...\n",
      "      0     1\n",
      "0  9650  8666\n",
      "1  5630  3006\n",
      "2  3928  9702\n",
      "3  9131  4350\n",
      "4  3525  8261\n",
      "The graph contains 20052 edges, 3460 cells.\n",
      "5.7954 neighbors per cell on average.\n",
      "Size of Input:  (3460, 12676)\n",
      "100% 180/180 [00:15<00:00, 11.53it/s]\n",
      "R[write to console]:                    __           __ \n",
      "   ____ ___  _____/ /_  _______/ /_\n",
      "  / __ `__ \\/ ___/ / / / / ___/ __/\n",
      " / / / / / / /__/ / /_/ (__  ) /_  \n",
      "/_/ /_/ /_/\\___/_/\\__,_/____/\\__/   version 6.0.0\n",
      "Type 'citation(\"mclust\")' for citing this R package in publications.\n",
      "\n",
      "fitting ...\n",
      "  |======================================================================| 100%\n",
      "ARI =  0.5202930751909896\n",
      "selecting DEs after first round of clustering ...\n",
      "label =  1\n",
      "label =  2\n",
      "label =  3\n",
      "label =  4\n",
      "label =  5\n",
      "label =  6\n",
      "label =  7\n",
      "selecting DE num =  3973\n",
      "train a new AE with the potential DEs ...\n",
      "DE expression matrix non-zero rate =  0.2390518223441758\n",
      "100% 180/180 [00:05<00:00, 35.52it/s]\n",
      "fitting ...\n",
      "  |======================================================================| 100%\n",
      "finalized ARI =  0.37144203241734475\n",
      "[461, 451, 542, 519, 809, 313, 365]\n",
      "------Calculating spatial graph...\n",
      "      0     1\n",
      "0  9650  8666\n",
      "1  5630  3006\n",
      "2  3928  9702\n",
      "3  9131  4350\n",
      "4  3525  8261\n",
      "The graph contains 20052 edges, 3460 cells.\n",
      "5.7954 neighbors per cell on average.\n",
      "Size of Input:  (3460, 3973)\n",
      "100% 180/180 [00:05<00:00, 34.88it/s]\n",
      "fitting ...\n",
      "  |======================================================================| 100%\n",
      "ARI =  0.3635300201683136\n",
      "selecting DEs after first round of clustering ...\n",
      "label =  1\n",
      "label =  2\n",
      "label =  3\n",
      "label =  4\n",
      "label =  5\n",
      "label =  6\n",
      "label =  7\n",
      "selecting DE num =  948\n",
      "train a new AE with the potential DEs ...\n",
      "DE expression matrix non-zero rate =  0.9976918245896441\n",
      "100% 180/180 [00:02<00:00, 74.37it/s]\n",
      "fitting ...\n",
      "  |======================================================================| 100%\n",
      "finalized ARI =  0.36228727504040703\n",
      "ARI: 0.36228727504040703\n",
      "Figure(762x300)\n",
      "2023-09-29 13:27:58.537724: I tensorflow/core/platform/cpu_feature_guard.cc:182] This TensorFlow binary is optimized to use available CPU instructions in performance-critical operations.\n",
      "To enable the following instructions: AVX2 FMA, in other operations, rebuild TensorFlow with the appropriate compiler flags.\n",
      "2023-09-29 13:27:59.549860: W tensorflow/compiler/tf2tensorrt/utils/py_utils.cc:38] TF-TRT Warning: Could not find TensorRT\n",
      "Figure(300x300)\n",
      "Figure(762x300)\n"
     ]
    }
   ],
   "source": [
    "!python ADEPT_main.py --input_data=151676 --impute_cluster_num=7 --cluster_num=7 \\\n",
    " --radius=150 --use_hvgs=0 --runs=1 --de_candidates=762  --impute_runs=1 #--de_nzr_max=.14"
   ]
  },
  {
   "cell_type": "code",
   "execution_count": null,
   "metadata": {
    "colab": {
     "base_uri": "https://localhost:8080/"
    },
    "id": "qUB2nN29UFhx",
    "outputId": "482ad59c-a79d-467e-ece6-af9cf1331820"
   },
   "outputs": [
    {
     "name": "stdout",
     "output_type": "stream",
     "text": [
      "/content/drive/MyDrive/CS690/ADEPT/dataset/DLPFC\n"
     ]
    }
   ],
   "source": [
    " !pwd"
   ]
  },
  {
   "cell_type": "code",
   "execution_count": null,
   "metadata": {
    "colab": {
     "base_uri": "https://localhost:8080/"
    },
    "id": "sIaukqAPBG1G",
    "outputId": "149e992e-2bc6-488f-f28f-8816709437b9"
   },
   "outputs": [
    {
     "name": "stdout",
     "output_type": "stream",
     "text": [
      "/content/drive/My Drive/CS690/ADEPT/dataset/DLPFC\n"
     ]
    }
   ],
   "source": [
    "%cd dataset/DLPFC"
   ]
  },
  {
   "cell_type": "code",
   "execution_count": 29,
   "metadata": {
    "colab": {
     "base_uri": "https://localhost:8080/"
    },
    "id": "oTJ6ah2PToas",
    "outputId": "b58ac57b-1431-46c3-f5d1-a0887a38bf32"
   },
   "outputs": [
    {
     "name": "stdout",
     "output_type": "stream",
     "text": [
      "Files have been renamed and moved to the 'final' folder.\n"
     ]
    }
   ],
   "source": [
    "import os\n",
    "import shutil\n",
    "\n",
    "# Define the current directory and the list of datasets\n",
    "current_dir = \"/content/drive/My Drive/CS690/ADEPT/dataset/DLPFC\"\n",
    "datasets = ['151507', '151508', '151509', '151510', '151673', '151674', '151675', '151676', '151669', '151670', '151671', '151672']\n",
    "\n",
    "# Create the 'final' folder\n",
    "final_folder = os.path.join(current_dir, 'final_NO_IMPUT')\n",
    "os.makedirs(final_folder, exist_ok=True)\n",
    "\n",
    "# Iterate through the datasets\n",
    "for dataset in datasets[1:]:\n",
    "    dataset_folder = os.path.join(current_dir, dataset + '_viz')\n",
    "    input_folder = os.path.join(dataset_folder, dataset +'_NO_IMPUT')\n",
    "\n",
    "    # Iterate through the files in the 'IMPUT' folder\n",
    "    for filename in os.listdir(input_folder):\n",
    "        if filename.endswith('.csv'):\n",
    "            source_path = os.path.join(input_folder, filename)\n",
    "            new_filename = f'ADEPT_{dataset}.csv'\n",
    "            destination_path = os.path.join(final_folder, new_filename)\n",
    "            shutil.copy(source_path, destination_path)\n",
    "\n",
    "print(\"Files have been renamed and moved to the 'final' folder.\")\n"
   ]
  },
  {
   "cell_type": "code",
   "execution_count": null,
   "metadata": {
    "id": "uXkhsl2sV6PT"
   },
   "outputs": [],
   "source": []
  }
 ],
 "metadata": {
  "accelerator": "GPU",
  "colab": {
   "provenance": []
  },
  "kernelspec": {
   "display_name": "Python 3 (ipykernel)",
   "language": "python",
   "name": "python3"
  },
  "language_info": {
   "codemirror_mode": {
    "name": "ipython",
    "version": 3
   },
   "file_extension": ".py",
   "mimetype": "text/x-python",
   "name": "python",
   "nbconvert_exporter": "python",
   "pygments_lexer": "ipython3",
   "version": "3.11.4"
  }
 },
 "nbformat": 4,
 "nbformat_minor": 1
}
